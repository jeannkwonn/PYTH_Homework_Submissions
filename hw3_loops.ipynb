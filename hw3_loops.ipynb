{
  "nbformat": 4,
  "nbformat_minor": 0,
  "metadata": {
    "colab": {
      "name": "hw3 loops.ipynb",
      "provenance": [],
      "collapsed_sections": [
        "qFW1An18kHkO",
        "cXrJIFAfkHkS",
        "R5-jMoK2kHkY",
        "tks-3erhkHkb",
        "t5rhL-WAkHkq"
      ],
      "include_colab_link": true
    },
    "kernelspec": {
      "name": "python3",
      "display_name": "Python 3"
    }
  },
  "cells": [
    {
      "cell_type": "markdown",
      "metadata": {
        "id": "view-in-github",
        "colab_type": "text"
      },
      "source": [
        "<a href=\"https://colab.research.google.com/github/jeannkwonn/PYTH_Homework_Submissions/blob/master/hw3_loops.ipynb\" target=\"_parent\"><img src=\"https://colab.research.google.com/assets/colab-badge.svg\" alt=\"Open In Colab\"/></a>"
      ]
    },
    {
      "cell_type": "markdown",
      "metadata": {
        "id": "OCc9mmZGkHkE",
        "colab_type": "text"
      },
      "source": [
        "<a href=\"https://colab.research.google.com/github/mottaquikarim/PYTH2/blob/master/src/PSETS/nb/homework_3_loops.ipynb\" target=\"_parent\"><img src=\"https://colab.research.google.com/assets/colab-badge.svg\" alt=\"Open In Colab\"/></a>"
      ]
    },
    {
      "cell_type": "markdown",
      "metadata": {
        "id": "skDHdTdskHkG",
        "colab_type": "text"
      },
      "source": [
        "#  LOOPS\n",
        "\n",
        "## LOOP_BASICS\n",
        "\n",
        "### P1.PY\n",
        "\n",
        "\n"
      ]
    },
    {
      "cell_type": "code",
      "metadata": {
        "id": "kbRGMdywkHkI",
        "colab_type": "code",
        "outputId": "14fe964f-eafd-43aa-bce7-685ecac5e706",
        "colab": {
          "base_uri": "https://localhost:8080/",
          "height": 34
        }
      },
      "source": [
        "\"\"\"\n",
        "Odds & Evens\n",
        "\"\"\"\n",
        "\n",
        "# Use a loop to make a list of all odd numbers between 1 and 10 and another list with all the evens. When done, print the lists.\n",
        "\n",
        "odds = []\n",
        "\n",
        "evens = []\n",
        "\n",
        "i = 1\n",
        "\n",
        "while i <= 10:\n",
        "  if i % 2 == 0:\n",
        "    evens.append(i)\n",
        "  else:\n",
        "    odds.append(i)\n",
        "    \n",
        "  i += 1\n",
        "  \n",
        "print(odds, evens)"
      ],
      "execution_count": 0,
      "outputs": [
        {
          "output_type": "stream",
          "text": [
            "[1, 3, 5, 7, 9] [2, 4, 6, 8, 10]\n"
          ],
          "name": "stdout"
        }
      ]
    },
    {
      "cell_type": "markdown",
      "metadata": {
        "id": "wJS7rNCBkHkM",
        "colab_type": "text"
      },
      "source": [
        "\n",
        "\n",
        "### P2.PY\n",
        "\n",
        "\n"
      ]
    },
    {
      "cell_type": "code",
      "metadata": {
        "id": "FziiFhHAkHkM",
        "colab_type": "code",
        "outputId": "f7946dbc-55b4-4198-d22a-ccc83d161873",
        "colab": {
          "base_uri": "https://localhost:8080/",
          "height": 51
        }
      },
      "source": [
        "\"\"\"\n",
        "Lists with Duplicates\n",
        "\"\"\"\n",
        "\n",
        "# First, print list a below as it is now.\n",
        "\n",
        "a = [2, 4, 10, 20, 5, 2, 20, 4]\n",
        "b = [13, 2, 25, 20, 4, 8]\n",
        "\n",
        "print(a,b)\n",
        "\n",
        "# Using a loop, remove the duplicate items from list a and print out the updated list.\n",
        "\n",
        "# new_a = []\n",
        "# for n, item in enumerate(a):\n",
        "#   if item in a[n+1:]:\n",
        "#     continue\n",
        "    \n",
        "#     new_a.append(item)\n",
        "    \n",
        "#     print(new_a)\n",
        "\n",
        "tmp = []\n",
        "for i in a:\n",
        "  if i in tmp:\n",
        "    continue\n",
        "    \n",
        "  tmp.append(i)\n",
        "\n",
        "print(tmp)\n",
        "# Using a loop, merge list b into list a without adding any duplicates."
      ],
      "execution_count": 0,
      "outputs": [
        {
          "output_type": "stream",
          "text": [
            "[2, 4, 10, 20, 5, 2, 20, 4] [13, 2, 25, 20, 4, 8]\n",
            "[2, 4, 10, 20, 5]\n"
          ],
          "name": "stdout"
        }
      ]
    },
    {
      "cell_type": "markdown",
      "metadata": {
        "id": "qFW1An18kHkO",
        "colab_type": "text"
      },
      "source": [
        "\n",
        "\n",
        "### P3.PY\n",
        "\n",
        "\n"
      ]
    },
    {
      "cell_type": "code",
      "metadata": {
        "id": "DTGpldgakHkQ",
        "colab_type": "code",
        "outputId": "84cf0bfd-4afd-4a7c-c669-4a954aa3cfb7",
        "colab": {
          "base_uri": "https://localhost:8080/",
          "height": 119
        }
      },
      "source": [
        "\"\"\"\n",
        "Temperature Conversions\n",
        "\"\"\"\n",
        "\n",
        "# You're studying climate change, and over the last 3 years, you've recorded the temperature at noon every day in degrees Fahrenheit (F). The var sampleF holds a portion of those recordings. \n",
        "\n",
        "sampleF = [71.6, 82.4, 91.4, 107.6, 125.6]\n",
        "print(sampleF)\n",
        "\n",
        "# Convert each item in this list into degrees Celsius and add the results to a dict called sample_temps so that the conversion of each day's temperature is easily accessible. For reference, the conversion equation between F and C is:\n",
        "# Celsius = (Fahrenheit - 32) * 5.0/9.0\n",
        "\n",
        "\n",
        "for n in sampleF:\n",
        "  sampleC = (n - 32) * (5.0/9.0)\n",
        "  \n",
        "  print(sampleC)"
      ],
      "execution_count": 0,
      "outputs": [
        {
          "output_type": "stream",
          "text": [
            "[71.6, 82.4, 91.4, 107.6, 125.6]\n",
            "21.999999999999996\n",
            "28.000000000000004\n",
            "33.00000000000001\n",
            "42.0\n",
            "52.0\n"
          ],
          "name": "stdout"
        }
      ]
    },
    {
      "cell_type": "markdown",
      "metadata": {
        "id": "cXrJIFAfkHkS",
        "colab_type": "text"
      },
      "source": [
        "\n",
        "\n",
        "### P4.PY\n",
        "\n",
        "\n"
      ]
    },
    {
      "cell_type": "code",
      "metadata": {
        "id": "N9ZPQc58kHkS",
        "colab_type": "code",
        "outputId": "5b2bb422-ac14-4db9-ca61-338c6ea337d0",
        "colab": {
          "base_uri": "https://localhost:8080/",
          "height": 51
        }
      },
      "source": [
        "\"\"\"\n",
        "Factorial\n",
        "\"\"\"\n",
        "\n",
        "# Find the factorial of a number input by a user. Then print out the factors within the factorial and then print out the actual numeric answer. Hint: The formula for a factorial is n! = (n-1)*n.\n",
        "\n",
        "\n",
        "# Example output:\n",
        "\"\"\"\n",
        "8! = 8*7*6*5*4*3*2*1\n",
        "8! = 40320\n",
        "\"\"\"\n",
        "\n",
        "user_input = input('Enter a number to find its factorial: ')\n",
        "\n",
        "num = int(user_input)\n",
        "\n",
        "r = range(1, num+1)\n",
        "\n",
        "current = 1\n",
        "for i in r:\n",
        "  current = current * (current + 1)\n",
        "\n",
        "print(current)"
      ],
      "execution_count": 0,
      "outputs": [
        {
          "output_type": "stream",
          "text": [
            "Enter a number to find its factorial: 4\n",
            "1806\n"
          ],
          "name": "stdout"
        }
      ]
    },
    {
      "cell_type": "markdown",
      "metadata": {
        "id": "R5-jMoK2kHkY",
        "colab_type": "text"
      },
      "source": [
        "\n",
        "\n",
        "### P5.PY\n",
        "\n",
        "\n"
      ]
    },
    {
      "cell_type": "code",
      "metadata": {
        "id": "UCSx0Ze6kHkY",
        "colab_type": "code",
        "outputId": "e4e474b7-3101-496b-cda9-bb72be232fd2",
        "colab": {
          "base_uri": "https://localhost:8080/",
          "height": 102
        }
      },
      "source": [
        "\"\"\"\n",
        "Factors\n",
        "\"\"\"\n",
        "\n",
        "# Find all factors of a number that a user inputs and print out 'The factors of <the_user_input_number> are: '.\n",
        "\n",
        "user_input = input('Enter a number to find its factors: ')\n",
        "\n",
        "n = int(user_input)\n",
        "\n",
        "r = range(1, num+1)\n",
        "factors = []\n",
        "\n",
        "for i in r:\n",
        "  if n % i == 0:\n",
        "    \n",
        "    factors.append(i)\n",
        "  \n",
        "  print(factors)"
      ],
      "execution_count": 0,
      "outputs": [
        {
          "output_type": "stream",
          "text": [
            "Enter a number to find its factors: 12\n",
            "[1]\n",
            "[1, 2]\n",
            "[1, 2, 3]\n",
            "[1, 2, 3, 4]\n"
          ],
          "name": "stdout"
        }
      ]
    },
    {
      "cell_type": "markdown",
      "metadata": {
        "id": "tks-3erhkHkb",
        "colab_type": "text"
      },
      "source": [
        "\n",
        "\n",
        "### P6.PY\n",
        "\n",
        "\n"
      ]
    },
    {
      "cell_type": "code",
      "metadata": {
        "id": "ocrlgs0LkHkb",
        "colab_type": "code",
        "outputId": "ea46224f-6c33-4185-9ec8-abf7e8b10bee",
        "colab": {
          "base_uri": "https://localhost:8080/",
          "height": 89
        }
      },
      "source": [
        "\"\"\"\n",
        "GCD\n",
        "\"\"\"\n",
        "\n",
        "# Find the greatest common denominator (GCD) of two number input by a user. Then print out 'The GCD of <first number> and <second number> is <your result>.'\n",
        "\n",
        "print('Enter two numbers to find their greatest common denominator.')\n",
        "\n",
        "#user_input1 = input('First number: ')\n",
        "#user_input2 = input('Second number: ')\n",
        "\n",
        "num1 = 12\n",
        "\n",
        "range1 = range(1, num1+1)\n",
        "factors1 = []\n",
        "\n",
        "for i in range1:\n",
        "  if num1 % i == 0:\n",
        "    \n",
        "    factors1.append(i)\n",
        "  \n",
        "  \n",
        "num2 = 8\n",
        "\n",
        "range2 = range(1, num2+1)\n",
        "factors2 = []\n",
        "\n",
        "for i in range2:\n",
        "  if num2 % i == 0:\n",
        "    \n",
        "    factors2.append(i)\n",
        "  \n",
        "  \n",
        "  \n",
        "list3 = factors1 + factors2\n",
        "\n",
        "print(list3)\n",
        "\n",
        "a_set = set(factors1) \n",
        "b_set = set(factors2)\n",
        "\n",
        "common_factors = a_set & b_set\n",
        "\n",
        "print(common_factors)\n",
        "\n",
        "gcf = max(common_factors)\n",
        "\n",
        "print(gcf)"
      ],
      "execution_count": 0,
      "outputs": [
        {
          "output_type": "stream",
          "text": [
            "Enter two numbers to find their greatest common denominator.\n",
            "[1, 2, 3, 4, 6, 12, 1, 2, 4, 8]\n",
            "{1, 2, 4}\n",
            "4\n"
          ],
          "name": "stdout"
        }
      ]
    },
    {
      "cell_type": "markdown",
      "metadata": {
        "id": "zeBM_ufYkHkd",
        "colab_type": "text"
      },
      "source": [
        "\n",
        "\n",
        "## DICT_LOOPS\n",
        "\n",
        "### P1.PY\n",
        "\n",
        "\n"
      ]
    },
    {
      "cell_type": "code",
      "metadata": {
        "id": "03_kKnwmkHke",
        "colab_type": "code",
        "outputId": "838828b3-3d23-4e0b-86e9-8ad1dc9c7b40",
        "colab": {
          "base_uri": "https://localhost:8080/",
          "height": 156
        }
      },
      "source": [
        "\"\"\"\n",
        "Contacts\n",
        "\"\"\"\n",
        "\n",
        "# You went to a conference and got people to sign up for text updates from your startup. Go through this dict to make the phone numbers readable to a computer. \n",
        "\n",
        "# Hint: It can't include any non-numeric\n",
        "# characters.\n",
        "\n",
        "contacts = {\n",
        "\t'Jamie': '1.192.168.0143',\n",
        "\t'Kartik': '1.837.209.1121',\n",
        "\t'Grant': '1.826.386.1758',\n",
        "\t'Brandon': '1.935.297.9447',\n",
        "\t'Monique': '1.702.716.5353',\n",
        "\t'Sohom': '1.576.619.6100',\n",
        "}\n",
        "\n",
        "for contact, number in contacts.items():\n",
        "  arr = number.split('.')\n",
        "  phone = ''.join(arr)\n",
        "  print(arr, phone)\n",
        "  contacts[contact] = phone\n",
        "\n",
        "print(contacts)"
      ],
      "execution_count": 0,
      "outputs": [
        {
          "output_type": "stream",
          "text": [
            "['1', '192', '168', '0143'] 11921680143\n",
            "['1', '837', '209', '1121'] 18372091121\n",
            "['1', '826', '386', '1758'] 18263861758\n",
            "['1', '935', '297', '9447'] 19352979447\n",
            "['1', '702', '716', '5353'] 17027165353\n",
            "['1', '576', '619', '6100'] 15766196100\n",
            "{'Jamie': '11921680143', 'Kartik': '18372091121', 'Grant': '18263861758', 'Brandon': '19352979447', 'Monique': '17027165353', 'Sohom': '15766196100'}\n"
          ],
          "name": "stdout"
        }
      ]
    },
    {
      "cell_type": "markdown",
      "metadata": {
        "id": "I7_JDj71kHkg",
        "colab_type": "text"
      },
      "source": [
        "\n",
        "\n",
        "### P2.PY\n",
        "\n",
        "\n"
      ]
    },
    {
      "cell_type": "code",
      "metadata": {
        "id": "JMZEBFyRkHkh",
        "colab_type": "code",
        "outputId": "f584b388-12f9-4b68-fd2a-8c407d44c64d",
        "colab": {
          "base_uri": "https://localhost:8080/",
          "height": 91
        }
      },
      "source": [
        "\"\"\"\n",
        "Grades\n",
        "\"\"\"\n",
        "# Here's a dict containing students' grades from the semester's assignments.\n",
        "\n",
        "students = {\n",
        "  'Ashton': [86, 45, 98, 100],\n",
        "  'Sierra': [100, 100, 100, 100],\n",
        "  'Zach': [38, 49, 90, 87],\n",
        "  'Manuel': [98, 92, 86, 100],\n",
        "  'Felicia': [94, 87, 89, 95],\n",
        "  'Ankur': [75, 77, 77, 85],\n",
        "  'Ananya': [98, 94, 87, 92],\n",
        "  'Nick': [79, 84, 89, 90],\n",
        "  'Olivia': [83, 91, 69, 85],\n",
        "  'Molly': [83, 74, 72, 90]\n",
        "}\n",
        "\n",
        "# p 1.1) Create a dict called num_grades to store each student's average numerical grade for the semester.\n",
        "\n",
        "num_grades = {}\n",
        "\n",
        "for keys, values in students.items():\n",
        "  num_grades[keys] = sum(values)/float(len(values))\n",
        "  \n",
        "print(num_grades)\n",
        "\n",
        "# p 1.2) Create a dict called letter_grades to store each student's final letter grade for the semester. Use A, B, C, D, and F as grades per the standard grading scale.\n",
        "\n",
        "letter_grades = {}\n",
        "\n",
        "for keys, values in num_grades.items():\n",
        "  if 100 > values > 90:\n",
        "    letter_grades.update({keys: 'A'})\n",
        "  elif 90 > values > 80:\n",
        "    letter_grades.update({keys: 'B'})\n",
        "  elif 80 > values > 70:\n",
        "    letter_grades.update({keys: 'C'})\n",
        "  elif 70 > values > 60:\n",
        "    letter_grades.update({keys: 'D'})\n",
        "  else:\n",
        "    letter_grades.update({keys: 'F'})\n",
        "  \n",
        "print(letter_grades)\n",
        "    \n",
        "# p 1.3) Create a list of honor roll students (i.e. students who got A's).\n",
        "\n",
        "honor_roll = []\n",
        "\n",
        "for keys, values in letter_grades.items():\n",
        "  if values == 'A':\n",
        "    honor_roll.append(keys)\n",
        "    \n",
        "print(honor_roll)\n"
      ],
      "execution_count": 0,
      "outputs": [
        {
          "output_type": "stream",
          "text": [
            "{'Ashton': 82.25, 'Sierra': 100.0, 'Zach': 66.0, 'Manuel': 94.0, 'Felicia': 91.25, 'Ankur': 78.5, 'Ananya': 92.75, 'Nick': 85.5, 'Olivia': 82.0, 'Molly': 79.75}\n",
            "{'Ashton': 'B', 'Sierra': 'F', 'Zach': 'D', 'Manuel': 'A', 'Felicia': 'A', 'Ankur': 'C', 'Ananya': 'A', 'Nick': 'B', 'Olivia': 'B', 'Molly': 'C'}\n",
            "['Manuel', 'Felicia', 'Ananya']\n"
          ],
          "name": "stdout"
        }
      ]
    },
    {
      "cell_type": "markdown",
      "metadata": {
        "id": "my4BInHRkHkl",
        "colab_type": "text"
      },
      "source": [
        "\n",
        "\n",
        "### P3.PY\n",
        "\n",
        "\n"
      ]
    },
    {
      "cell_type": "code",
      "metadata": {
        "id": "LPReGn51kHkm",
        "colab_type": "code",
        "colab": {}
      },
      "source": [
        "\"\"\"\n",
        "Price Inventory\n",
        "\"\"\"\n",
        "\n",
        "# Imagine you're the owner of an Italian restaurant. You're evaluating your pricing to make sure it's up to date with the latest costs of making each menu item (see the menu prices and costs dicts below). Evaluate whether each item's price returns a profit margin of at least $1.00. If it doesn't, update the menu_prices dict with a new price that gives the item a $1.00 profit margin. Then print out the items which you've repriced in a new dict called price_increases.\n",
        "\n",
        "menu_prices = {\n",
        "\t'fettuccine bolognese': 14.99,\n",
        "\t'gnocchi gorgonzola': 10.99,\n",
        "\t'chicken parmigiano': 13.99,\n",
        "\t'butternut squash risotto': 9.99,\n",
        "\t'spaghetti carbonara': 12.99,\n",
        "\t'pizza margherita': 12.99,\n",
        "\t'chicken marsala': 13.99\n",
        "}\n",
        "\n",
        "menu_costs = {\n",
        "\t'fettuccine bolognese': 12.50,\n",
        "\t'gnocchi gorgonzola': 11.25,\n",
        "\t'chicken parmigiano': 11.75,\n",
        "\t'butternut squash risotto': 6.33,\n",
        "\t'spaghetti carbonara': 12.90,\n",
        "\t'pizza margherita': 14.00,\n",
        "\t'chicken marsala': 11.75\n",
        "}\n",
        "\n",
        "\n"
      ],
      "execution_count": 0,
      "outputs": []
    },
    {
      "cell_type": "markdown",
      "metadata": {
        "id": "BWt2o-9wkHkn",
        "colab_type": "text"
      },
      "source": [
        "\n",
        "\n",
        "## CONTROL_FLOW\n",
        "\n",
        "### P1.PY\n",
        "\n",
        "\n"
      ]
    },
    {
      "cell_type": "code",
      "metadata": {
        "id": "G3gP8mLRkHko",
        "colab_type": "code",
        "outputId": "38ba1e9d-c84c-4ae8-bb8a-454f17412db5",
        "colab": {
          "base_uri": "https://localhost:8080/",
          "height": 68
        }
      },
      "source": [
        "\"\"\"\n",
        "Control Flow - I\n",
        "\"\"\"\n",
        "\n",
        "# Print the numbers in the range (5:12) until you find a factor of 4. If the range the user enters contains no factors of 4, print \"There are no factors of 4 in this interval.\"\n",
        "# HINT: for the range 5,12 there will likely be multiples of 4 present - to assert the final requirement, try changing range boundaries\n",
        "\n",
        "for num in range(5,12):\n",
        "\tif num % 4 != 0:\n",
        "\t\tprint(num)\n",
        "\telif num % 4 == 0:\n",
        "\t\tbreak\n"
      ],
      "execution_count": 0,
      "outputs": [
        {
          "output_type": "stream",
          "text": [
            "5\n",
            "6\n",
            "7\n"
          ],
          "name": "stdout"
        }
      ]
    },
    {
      "cell_type": "markdown",
      "metadata": {
        "id": "t5rhL-WAkHkq",
        "colab_type": "text"
      },
      "source": [
        "\n",
        "\n",
        "### P2.PY\n",
        "\n",
        "\n"
      ]
    },
    {
      "cell_type": "code",
      "metadata": {
        "id": "rk6j8SSbkHkq",
        "colab_type": "code",
        "outputId": "f6fa0079-3dc5-45c7-d8d7-86a76e74ed03",
        "colab": {
          "base_uri": "https://localhost:8080/",
          "height": 102
        }
      },
      "source": [
        "\"\"\"\n",
        "Control Flow II\n",
        "\"\"\"\n",
        "\n",
        "# Write a Python program that prints all the numbers from 0 to 6 except 3 and 6. Note : Use 'continue' statement. \n",
        "\n",
        "for i in range(6):\n",
        "    if i == 3:\n",
        "      continue\n",
        "    if i == 6:\n",
        "      continue\n",
        "      \n",
        "    print(i)\n"
      ],
      "execution_count": 0,
      "outputs": [
        {
          "output_type": "stream",
          "text": [
            "0\n",
            "1\n",
            "2\n",
            "4\n",
            "5\n"
          ],
          "name": "stdout"
        }
      ]
    },
    {
      "cell_type": "markdown",
      "metadata": {
        "id": "iEziYBUIkHks",
        "colab_type": "text"
      },
      "source": [
        "\n",
        "\n",
        "## SHAPES\n",
        "\n",
        "### P1.PY\n",
        "\n",
        "\n"
      ]
    },
    {
      "cell_type": "code",
      "metadata": {
        "id": "6HgqjJr-kHks",
        "colab_type": "code",
        "outputId": "7f70ecfd-aeb8-40c1-cb5c-d973b1f06272",
        "colab": {
          "base_uri": "https://localhost:8080/",
          "height": 34
        }
      },
      "source": [
        "\"\"\"\n",
        "Build a Triangle\n",
        "\"\"\"\n",
        "\n",
        "# Use a while loop to print a 5-level triangle of stars that looks like this:\n",
        "\n",
        "\"\"\"\n",
        "*\n",
        "**\n",
        "***\n",
        "****\n",
        "*****\n",
        "\"\"\"\n",
        "\n",
        "st = '*'\n",
        "for i in range(6):\n",
        "  st += '*'\n",
        "  \n",
        "  i += 1\n",
        "  \n",
        "print(i)\n"
      ],
      "execution_count": 0,
      "outputs": [
        {
          "output_type": "stream",
          "text": [
            "6\n"
          ],
          "name": "stdout"
        }
      ]
    },
    {
      "cell_type": "markdown",
      "metadata": {
        "id": "C5e--sCMkHku",
        "colab_type": "text"
      },
      "source": [
        "\n",
        "\n",
        "### P2.PY\n",
        "\n",
        "\n"
      ]
    },
    {
      "cell_type": "code",
      "metadata": {
        "id": "n37EJlcokHkv",
        "colab_type": "code",
        "outputId": "0280c27d-45bb-4b94-c5d0-114455312daa",
        "colab": {
          "base_uri": "https://localhost:8080/",
          "height": 130
        }
      },
      "source": [
        "\"\"\"\n",
        "Build a Pyramid\n",
        "\"\"\"\n",
        "\n",
        "# Use a while loop to print a pyramid of stars that looks like this:\n",
        "\n",
        "\"\"\"\n",
        "    *\n",
        "   ***\n",
        "  *****\n",
        " *******\n",
        "*********\n",
        "\"\"\"\n",
        "\n",
        "i = 0\n",
        "l = 9\n",
        "\n",
        "output = []\n",
        "\n",
        "while i < 1:\n",
        "  st = \" \"*i + \"*\"*(1-2*i)\n",
        "  output = st + \\\n"
      ],
      "execution_count": 0,
      "outputs": [
        {
          "output_type": "error",
          "ename": "SyntaxError",
          "evalue": "ignored",
          "traceback": [
            "\u001b[0;36m  File \u001b[0;32m\"<ipython-input-67-ef6260b7af0e>\"\u001b[0;36m, line \u001b[0;32m22\u001b[0m\n\u001b[0;31m    output = st +\u001b[0m\n\u001b[0m                  ^\u001b[0m\n\u001b[0;31mSyntaxError\u001b[0m\u001b[0;31m:\u001b[0m invalid syntax\n"
          ]
        }
      ]
    },
    {
      "cell_type": "markdown",
      "metadata": {
        "id": "Jvw3QOnakHkx",
        "colab_type": "text"
      },
      "source": [
        "\n",
        "\n",
        "### P3.PY\n",
        "\n",
        "\n"
      ]
    },
    {
      "cell_type": "code",
      "metadata": {
        "id": "LbAw_QuGkHkx",
        "colab_type": "code",
        "colab": {}
      },
      "source": [
        "\"\"\"\n",
        "Build a Diamond\n",
        "\"\"\"\n",
        "\n",
        "# Use a while loop to print a diamond of stars that looks like this:\n",
        "\n",
        "\"\"\"\n",
        "    *\n",
        "   ***\n",
        "  *****\n",
        " *******\n",
        "*********\n",
        " *******\n",
        "  *****\n",
        "   ***\n",
        "    *\n",
        "\"\"\"\n"
      ],
      "execution_count": 0,
      "outputs": []
    },
    {
      "cell_type": "markdown",
      "metadata": {
        "id": "ZnBWioQ9kHkz",
        "colab_type": "text"
      },
      "source": [
        "\n",
        "\n",
        "## LOOP_CHALLENGES\n",
        "\n",
        "### P1.PY\n",
        "\n",
        "\n"
      ]
    },
    {
      "cell_type": "code",
      "metadata": {
        "id": "d1Z9WZX5kHkz",
        "colab_type": "code",
        "colab": {}
      },
      "source": [
        "\"\"\"\n",
        "Valid Passwords\n",
        "\"\"\"\n",
        "\n",
        "# Check the validity of password input by users based on the below security requirements: At least 1 letter between [a-z] and 1 letter between [A-Z].\n",
        "\"\"\"\n",
        "# At least 1 letter between [a-z] and 1 letter between [A-Z].\n",
        "#At least 1 number between [0-9].\n",
        "At least 1 character from [$#@].\n",
        "Minimum length 6 characters.\n",
        "Maximum length 16 characters.\n",
        "\"\"\"\n",
        "\n",
        "\n",
        "# Hint: Look up the documentation for the \"re\" library and it's \".search()\" method.\n",
        "\n",
        "# p = input(\"Input your password: \")"
      ],
      "execution_count": 0,
      "outputs": []
    },
    {
      "cell_type": "markdown",
      "metadata": {
        "id": "DSOQ-OhekHk2",
        "colab_type": "text"
      },
      "source": [
        "\n",
        "\n",
        "### P2.PY\n",
        "\n",
        "\n"
      ]
    },
    {
      "cell_type": "code",
      "metadata": {
        "id": "1it6d8sbkHk3",
        "colab_type": "code",
        "outputId": "b2ea1be0-bd9d-4c9e-a8fd-e44d85f48b13",
        "colab": {
          "base_uri": "https://localhost:8080/",
          "height": 34
        }
      },
      "source": [
        "\"\"\"\n",
        "Prime Numbers I\n",
        "\"\"\"\n",
        "\n",
        "# Check if a number input by a user is prime or not. If it is NOT a prime number, print out that it is not a prime number. If it IS a prime number, print out that it is a prime number and give an example of two of its factors. Hint: Prime numbers must be greater than 1.\n",
        "\n",
        "# Example of output for a NON-prime:\n",
        "# 12 is not a prime number\n",
        "# For example, 2 x 6 = 12\n",
        "\n",
        "\n",
        "\n",
        "# user_input = input(\"Enter a number to check if it's prime: \")\n",
        "\n",
        "factors = []\n",
        "\n",
        "num = 12\n",
        "\n",
        "for i in range(1,num+1):\n",
        "  if num % i == 0:\n",
        "    factors.append(i)\n",
        "    \n",
        "if len(factors) == 2 and factors[0] == 1 and factors [-1] == num:\n",
        "  print('Prime', factors)\n",
        "else:\n",
        "  print(factors)\n"
      ],
      "execution_count": 0,
      "outputs": [
        {
          "output_type": "stream",
          "text": [
            "[1, 2, 3, 4, 6, 12]\n"
          ],
          "name": "stdout"
        }
      ]
    },
    {
      "cell_type": "markdown",
      "metadata": {
        "id": "_cKmREGjkHk9",
        "colab_type": "text"
      },
      "source": [
        "\n"
      ]
    }
  ]
}