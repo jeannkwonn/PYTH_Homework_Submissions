{
  "nbformat": 4,
  "nbformat_minor": 0,
  "metadata": {
    "colab": {
      "name": "hw1.ipynb",
      "version": "0.3.2",
      "provenance": [],
      "collapsed_sections": [
        "VoLp8HlrmEZK",
        "TngzEnUvnct4",
        "TDCVQQLAne_F"
      ],
      "include_colab_link": true
    },
    "kernelspec": {
      "name": "python3",
      "display_name": "Python 3"
    }
  },
  "cells": [
    {
      "cell_type": "markdown",
      "metadata": {
        "id": "view-in-github",
        "colab_type": "text"
      },
      "source": [
        "<a href=\"https://colab.research.google.com/github/jeannkwonn/PYTH_Homework_Submissions/blob/master/hw1.ipynb\" target=\"_parent\"><img src=\"https://colab.research.google.com/assets/colab-badge.svg\" alt=\"Open In Colab\"/></a>"
      ]
    },
    {
      "cell_type": "markdown",
      "metadata": {
        "id": "jlKtR3OMl8i5",
        "colab_type": "text"
      },
      "source": [
        "# Basic\n",
        "### P1.PY"
      ]
    },
    {
      "cell_type": "code",
      "metadata": {
        "id": "2pVgGa82bKQd",
        "colab_type": "code",
        "colab": {
          "base_uri": "https://localhost:8080/",
          "height": 34
        },
        "outputId": "b4344f3b-9fb9-4f77-ae9f-a66559454767"
      },
      "source": [
        "\"\"\"\n",
        "Placeholders\n",
        "\"\"\"\n",
        "\n",
        "# You're writing a program, and you don't know what your starting value for your 'initial' variable is yet. The program won't run if you leave it blank, but you don't want to forget you need it! Make a workaround.\n",
        "\n",
        "variable = None\n",
        "print(variable)\n",
        "\n",
        "# None is a datatype null"
      ],
      "execution_count": 4,
      "outputs": [
        {
          "output_type": "stream",
          "text": [
            "None\n"
          ],
          "name": "stdout"
        }
      ]
    },
    {
      "cell_type": "markdown",
      "metadata": {
        "id": "52EgLBaIbU6y",
        "colab_type": "text"
      },
      "source": [
        "### P2.PY"
      ]
    },
    {
      "cell_type": "code",
      "metadata": {
        "id": "rslLKSCLlod1",
        "colab_type": "code",
        "colab": {
          "base_uri": "https://localhost:8080/",
          "height": 85
        },
        "outputId": "d7502a41-8900-4718-e5cc-8ecc6194b0a5"
      },
      "source": [
        "\"\"\"\n",
        "Basic Variables\n",
        "\"\"\"\n",
        "\n",
        "# Create a variable that represents your favorite number, and add a note to remind yourself what this variable represents. Now print it out without re-typing the number.\n",
        "favorite_number = 3\n",
        "print(type(favorite_number))\n",
        "print(favorite_number)\n",
        "\n",
        "# Create another variable that represents your favorite color, and do the same steps as above.\n",
        "favorite_color = \"blue\"\n",
        "print(type(favorite_color))\n",
        "print(favorite_color)\n",
        "\n"
      ],
      "execution_count": 12,
      "outputs": [
        {
          "output_type": "stream",
          "text": [
            "<class 'int'>\n",
            "3\n",
            "<class 'str'>\n",
            "blue\n"
          ],
          "name": "stdout"
        }
      ]
    },
    {
      "cell_type": "markdown",
      "metadata": {
        "id": "VoLp8HlrmEZK",
        "colab_type": "text"
      },
      "source": [
        "### P3.PY"
      ]
    },
    {
      "cell_type": "code",
      "metadata": {
        "id": "nK5k5MNnlr6i",
        "colab_type": "code",
        "colab": {
          "base_uri": "https://localhost:8080/",
          "height": 136
        },
        "outputId": "b42906a6-9d08-4137-a3ec-9e423fca237f"
      },
      "source": [
        "# Create a variable that contains the first 4 lines of your favorite song. Add a comment that includes the song title and artist **each on their own line**! Now print out this variable.\n",
        "\n",
        "lyrics = \"\"\"\n",
        "Hello, it's me.\n",
        "I was wondering if after all these years\n",
        "you'd like to meet.\n",
        "Artist: Adele\n",
        "Song Title: Hello\n",
        "\"\"\"\n",
        "\n",
        "print(lyrics)\n"
      ],
      "execution_count": 17,
      "outputs": [
        {
          "output_type": "stream",
          "text": [
            "\n",
            "Hello, it's me.\n",
            "I was wondering if after all these years\n",
            "you'd like to meet.\n",
            "Artist: Adele\n",
            "Song Title: Hello\n",
            "\n"
          ],
          "name": "stdout"
        }
      ]
    },
    {
      "cell_type": "markdown",
      "metadata": {
        "id": "yDnqpY69mb5E",
        "colab_type": "text"
      },
      "source": [
        "# Typecasting\n",
        "### P1.PY"
      ]
    },
    {
      "cell_type": "code",
      "metadata": {
        "id": "JEe6LhLzlt69",
        "colab_type": "code",
        "colab": {
          "base_uri": "https://localhost:8080/",
          "height": 85
        },
        "outputId": "a3039864-b1c0-4bd2-bb83-c14c9fce9c0a"
      },
      "source": [
        "\"\"\"\n",
        "Typcasting w. Integers & Floats\n",
        "\"\"\"\n",
        "\n",
        "# Convert these numbers into floats and back. Print out each result as well as its data type.\n",
        "\n",
        "five = 5\n",
        "zero = 0\n",
        "neg_8 = -8\n",
        "neg_22 = -22\n",
        "\n",
        "int_to_float = float(five), float(zero), float(neg_8), float(neg_22)\n",
        "float_to_int = int(five), int(zero), int(neg_8), int(neg_22)\n",
        "\n",
        "print(type(5.0))\n",
        "print(int_to_float)\n",
        "\n",
        "print(type(5))\n",
        "print(float_to_int)"
      ],
      "execution_count": 26,
      "outputs": [
        {
          "output_type": "stream",
          "text": [
            "<class 'float'>\n",
            "(5.0, 0.0, -8.0, -22.0)\n",
            "<class 'int'>\n",
            "(5, 0, -8, -22)\n"
          ],
          "name": "stdout"
        }
      ]
    },
    {
      "cell_type": "markdown",
      "metadata": {
        "id": "CqVA2ZdZmlx8",
        "colab_type": "text"
      },
      "source": [
        "### P2.PY"
      ]
    },
    {
      "cell_type": "code",
      "metadata": {
        "id": "2UeDBOLHlv7z",
        "colab_type": "code",
        "colab": {
          "base_uri": "https://localhost:8080/",
          "height": 68
        },
        "outputId": "341dd990-b7f2-4bfe-f090-70a8bd90b9a0"
      },
      "source": [
        "\"\"\"\n",
        "Typcasting w. Strings\n",
        "\"\"\"\n",
        "\n",
        "# Convert these variables into strings and then back to their original data types. Print out each result as well as its data type. What do you notice about the last one?\n",
        "\n",
        "five = 5\n",
        "zero = 0\n",
        "neg_8 = -8\n",
        "T = True\n",
        "F = False\n",
        "\n",
        "int_to_string = str(five), str(zero), str(neg_8), str(T), str(F)\n",
        "\n",
        "print(type(int_to_string))\n",
        "print(int_to_string)\n",
        "\n",
        "print(str(five))"
      ],
      "execution_count": 33,
      "outputs": [
        {
          "output_type": "stream",
          "text": [
            "<class 'tuple'>\n",
            "('5', '0', '-8', 'True', 'False')\n",
            "5\n"
          ],
          "name": "stdout"
        }
      ]
    },
    {
      "cell_type": "markdown",
      "metadata": {
        "id": "L3_m-b39mpd_",
        "colab_type": "text"
      },
      "source": [
        "### P3.PY"
      ]
    },
    {
      "cell_type": "code",
      "metadata": {
        "id": "aZSBGwgRly0t",
        "colab_type": "code",
        "colab": {
          "base_uri": "https://localhost:8080/",
          "height": 136
        },
        "outputId": "3736ddd5-946e-41d0-90ea-2990302513ef"
      },
      "source": [
        "\"\"\"\n",
        "Booleans I - Typecasting w. Numbers\n",
        "\"\"\"\n",
        "\n",
        "# A) Use typecasting to turn these variables into boolean values. Print the result and the datatype of the result. \n",
        "\n",
        "one = 1\n",
        "zero = 0\n",
        "\n",
        "b_one = bool(one)\n",
        "b_zero = bool(zero)\n",
        "\n",
        "print(bool(one))\n",
        "print(bool(zero))\n",
        "\n",
        "# B) Use typecasting to turn the resultant variables from part A into floats. Print the result and the datatype of the result.\n",
        "\n",
        "f_one = float(b_one)\n",
        "print(b_one)\n",
        "\n",
        "f_zero = float(b_zero)\n",
        "print(b_zero)\n",
        "\n",
        "# C) Use typecasting to turn the resultant variables from part B back into booleans. Print the result and the datatype of the result.\n",
        "\n",
        "b_one = bool(f_one)\n",
        "b_zero = bool(f_zero)\n",
        "\n",
        "print(b_one)\n",
        "print(b_zero)\n",
        "\n",
        "# C) Use typecasting to turn the resultant variables from part C into integers. Print the result and the datatype of the result.\n",
        "i_one = int(b_one)\n",
        "i_zero = int(b_zero)\n",
        "\n",
        "# E) Use typecasting to turn the variable below into a boolean value. Print the result and the datatype of the result. \n",
        "\n",
        "ten = 10\n",
        "\n",
        "print(bool(10))"
      ],
      "execution_count": 44,
      "outputs": [
        {
          "output_type": "stream",
          "text": [
            "True\n",
            "False\n",
            "True\n",
            "False\n",
            "True\n",
            "False\n",
            "True\n"
          ],
          "name": "stdout"
        }
      ]
    },
    {
      "cell_type": "markdown",
      "metadata": {
        "id": "89WiasHvnLe9",
        "colab_type": "text"
      },
      "source": [
        "### P4.PY"
      ]
    },
    {
      "cell_type": "code",
      "metadata": {
        "id": "ubk_mDFxl0NC",
        "colab_type": "code",
        "colab": {
          "base_uri": "https://localhost:8080/",
          "height": 34
        },
        "outputId": "b175be21-bedc-4a7e-a750-ec52decb7d35"
      },
      "source": [
        "\"\"\"\n",
        "Booleans II - Typecasting w. Strings\n",
        "\"\"\"\n",
        "\n",
        "# A) Use typecasting to turn these variables into boolean values. Print the result and the datatype of the result. \n",
        "\n",
        "one = 1\n",
        "zero = 0\n",
        "bool_true = True\n",
        "bool_false = False\n",
        "\n",
        "s_one = str(one)\n",
        "s_zero = str(zero)\n",
        "s_bool_true = str(bool_true)\n",
        "s_bool_false = str(bool_false)\n",
        "\n",
        "# B) Use typecasting to turn the latest values for variables 'one' and 'zero' back into integers. Print the result and the datatype of the result.\n",
        "\n",
        "print(bool_true, bool_false, s_one, s_zero)\n",
        "\n",
        "# C) Use typecasting to turn the latest values for variables 'bool_true' and 'bool_false' back into boolean values. Print the result and the datatype of the result.\n"
      ],
      "execution_count": 47,
      "outputs": [
        {
          "output_type": "stream",
          "text": [
            "True False 1 0\n"
          ],
          "name": "stdout"
        }
      ]
    },
    {
      "cell_type": "markdown",
      "metadata": {
        "id": "mvIFC8MZnU2g",
        "colab_type": "text"
      },
      "source": [
        "# Operators\n",
        "### P1.PY"
      ]
    },
    {
      "cell_type": "code",
      "metadata": {
        "id": "zahCH5z4l1kz",
        "colab_type": "code",
        "colab": {
          "base_uri": "https://localhost:8080/",
          "height": 102
        },
        "outputId": "d50fedcb-ae72-434f-c1b4-592eca25187b"
      },
      "source": [
        "\"\"\"\n",
        "Integer & Float Operators\n",
        "\"\"\"\n",
        "\n",
        "# Complete the specified math operations. Do the next operation on the result from the previous operation.\n",
        "\n",
        "orig_var = 100\n",
        "\n",
        "# Add 50\n",
        "num1 = orig_var + 50\n",
        "print(num1)\n",
        "\n",
        "# Subtract 90\n",
        "num2 = num1 - 90\n",
        "print(num2)\n",
        "\n",
        "# Multiply 10\n",
        "num3 = num2 * 10\n",
        "print(num3)\n",
        "\n",
        "# Divide 150\n",
        "num4 = num3 / 150\n",
        "print(num4)\n",
        "\n",
        "# Modulus 3\n",
        "num5 = num4 % 3\n",
        "print(num5)"
      ],
      "execution_count": 49,
      "outputs": [
        {
          "output_type": "stream",
          "text": [
            "150\n",
            "60\n",
            "600\n",
            "4.0\n",
            "1.0\n"
          ],
          "name": "stdout"
        }
      ]
    },
    {
      "cell_type": "markdown",
      "metadata": {
        "id": "TngzEnUvnct4",
        "colab_type": "text"
      },
      "source": [
        "### P2.PY"
      ]
    },
    {
      "cell_type": "code",
      "metadata": {
        "id": "mkFkRNoXl4ms",
        "colab_type": "code",
        "colab": {
          "base_uri": "https://localhost:8080/",
          "height": 68
        },
        "outputId": "48a83bf4-d09e-4517-b234-e14fbb25a803"
      },
      "source": [
        "\"\"\"\n",
        "String Operators\n",
        "\"\"\"\n",
        "\n",
        "# Create two variables, each of which is half of a compound sentence. Do NOT add any punctuation up front. Add the two variables together, and print the result.\n",
        "## Example compound sentence: \"I'll go to the beach today, and I'll go snorkeling.\" \n",
        "\n",
        "a = \"I will go to the beach today,\"\n",
        "b = \"I will go snorkeling.\"\n",
        "\n",
        "compound = a + \",and\" + b\n",
        "\n",
        "print(a + b)\n",
        "print(a + 'and' + b)\n",
        "print(a, 'and', b)"
      ],
      "execution_count": 50,
      "outputs": [
        {
          "output_type": "stream",
          "text": [
            "I will go to the beach today,I will go snorkeling.\n",
            "I will go to the beach today,andI will go snorkeling.\n",
            "I will go to the beach today, and I will go snorkeling.\n"
          ],
          "name": "stdout"
        }
      ]
    },
    {
      "cell_type": "markdown",
      "metadata": {
        "id": "TDCVQQLAne_F",
        "colab_type": "text"
      },
      "source": [
        "### P3.PY"
      ]
    },
    {
      "cell_type": "code",
      "metadata": {
        "id": "sCGWGiDDl5wk",
        "colab_type": "code",
        "colab": {
          "base_uri": "https://localhost:8080/",
          "height": 232
        },
        "outputId": "b7877b01-374a-42d8-9f17-655f9f4a1e3c"
      },
      "source": [
        "\"\"\"\n",
        "Addition I - Numbers & Strings\n",
        "\"\"\"\n",
        "\n",
        "# Add the below sets of variables together.\n",
        "\n",
        "# A)\n",
        "a = 0\n",
        "b = 2\n",
        "\n",
        "print(a + b)\n",
        "\n",
        "\n",
        "\n",
        "# B)\n",
        "c = '0'\n",
        "d = '2'\n",
        "print(c + d)\n",
        "\n",
        "\n",
        "\n",
        "# C)\n",
        "e = \"0\"\n",
        "f = 2\n",
        "print(e + f)"
      ],
      "execution_count": 52,
      "outputs": [
        {
          "output_type": "stream",
          "text": [
            "2\n",
            "02\n"
          ],
          "name": "stdout"
        },
        {
          "output_type": "error",
          "ename": "TypeError",
          "evalue": "ignored",
          "traceback": [
            "\u001b[0;31m---------------------------------------------------------------------------\u001b[0m",
            "\u001b[0;31mTypeError\u001b[0m                                 Traceback (most recent call last)",
            "\u001b[0;32m<ipython-input-52-adf9930e5302>\u001b[0m in \u001b[0;36m<module>\u001b[0;34m()\u001b[0m\n\u001b[1;32m     23\u001b[0m \u001b[0me\u001b[0m \u001b[0;34m=\u001b[0m \u001b[0;34m\"0\"\u001b[0m\u001b[0;34m\u001b[0m\u001b[0;34m\u001b[0m\u001b[0m\n\u001b[1;32m     24\u001b[0m \u001b[0mf\u001b[0m \u001b[0;34m=\u001b[0m \u001b[0;36m2\u001b[0m\u001b[0;34m\u001b[0m\u001b[0;34m\u001b[0m\u001b[0m\n\u001b[0;32m---> 25\u001b[0;31m \u001b[0mprint\u001b[0m\u001b[0;34m(\u001b[0m\u001b[0me\u001b[0m \u001b[0;34m+\u001b[0m \u001b[0mf\u001b[0m\u001b[0;34m)\u001b[0m\u001b[0;34m\u001b[0m\u001b[0;34m\u001b[0m\u001b[0m\n\u001b[0m",
            "\u001b[0;31mTypeError\u001b[0m: must be str, not int"
          ]
        }
      ]
    },
    {
      "cell_type": "markdown",
      "metadata": {
        "id": "R93CLRG5njAD",
        "colab_type": "text"
      },
      "source": [
        "### P4.PY"
      ]
    },
    {
      "cell_type": "code",
      "metadata": {
        "id": "o90Bd50Ol7RY",
        "colab_type": "code",
        "colab": {
          "base_uri": "https://localhost:8080/",
          "height": 68
        },
        "outputId": "22084c18-3c99-4be5-c077-200358674cd5"
      },
      "source": [
        "\"\"\"\n",
        "Addition II - Booleans\n",
        "\"\"\"\n",
        "\n",
        "# Add the below sets of variables together.\n",
        "\n",
        "# A)\n",
        "a = True\n",
        "b = True\n",
        "\n",
        "print(a + b)\n",
        "\n",
        "\n",
        "\n",
        "# B)\n",
        "c = False\n",
        "d = False\n",
        "\n",
        "print(c + d)\n",
        "\n",
        "\n",
        "\n",
        "# C)\n",
        "e = True\n",
        "f = False\n",
        "\n",
        "print(e + f)"
      ],
      "execution_count": 53,
      "outputs": [
        {
          "output_type": "stream",
          "text": [
            "2\n",
            "0\n",
            "1\n"
          ],
          "name": "stdout"
        }
      ]
    }
  ]
}