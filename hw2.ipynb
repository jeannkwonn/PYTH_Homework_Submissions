{
  "nbformat": 4,
  "nbformat_minor": 0,
  "metadata": {
    "colab": {
      "name": "hw2.ipynb",
      "version": "0.3.2",
      "provenance": [],
      "collapsed_sections": [],
      "include_colab_link": true
    },
    "kernelspec": {
      "name": "python3",
      "display_name": "Python 3"
    }
  },
  "cells": [
    {
      "cell_type": "markdown",
      "metadata": {
        "id": "view-in-github",
        "colab_type": "text"
      },
      "source": [
        "<a href=\"https://colab.research.google.com/github/jeannkwonn/PYTH_Homework_Submissions/blob/master/hw2.ipynb\" target=\"_parent\"><img src=\"https://colab.research.google.com/assets/colab-badge.svg\" alt=\"Open In Colab\"/></a>"
      ]
    },
    {
      "cell_type": "markdown",
      "metadata": {
        "id": "2cuyF1YIqew_",
        "colab_type": "text"
      },
      "source": [
        "<a href=\"https://colab.research.google.com/github/mottaquikarim/PYTH2/blob/master/src/PSETS/nb/conditionals_inclass_psets.ipynb\" target=\"_parent\"><img src=\"https://colab.research.google.com/assets/colab-badge.svg\" alt=\"Open In Colab\"/></a>"
      ]
    },
    {
      "cell_type": "markdown",
      "metadata": {
        "id": "9ywiUfZ2qexC",
        "colab_type": "text"
      },
      "source": [
        "#  CONDITIONALS\n",
        "\n",
        "## WEATHER\n",
        "\n",
        "### P1.PY\n",
        "\n",
        "\n"
      ]
    },
    {
      "cell_type": "code",
      "metadata": {
        "id": "SP-dA9OCqexD",
        "colab_type": "code",
        "colab": {}
      },
      "source": [
        "\"\"\"\n",
        "Weather I - Do you need boots?\n",
        "\"\"\"\n",
        "\n",
        "# Use the values of the vars defined below to ouput the correct contextual answer to the questions below. (Note: The variables themselves ARE the questions.)\n",
        "\n",
        "# Example:\n",
        "## am_i_hungry = False\n",
        "## am_i_tired = True\n",
        "## do_i_need_to_stay_awake = False\n",
        "\n",
        "## should_i_drink_coffee_now = am_i_tired and do_i_need_to_stay_awake\n",
        "\n",
        "## ^^ This ^^ evaluates to False. If you're tired and don't need to stay awake, you don't need to drink coffee!\n",
        "\n",
        "\n",
        "is_it_raining = True\n",
        "is_it_snowing = False\n",
        "\n",
        "\n",
        "do_i_need_snow_boots = is_it_snowing\n",
        "can_i_skip_snow_boots = not is_it_snowing\n",
        "do_i_need_rain_boots = is_it_raining\n",
        "can_i_skip_rain_boots = not is_it_raining\n"
      ],
      "execution_count": 0,
      "outputs": []
    },
    {
      "cell_type": "markdown",
      "metadata": {
        "id": "gFGs3ZJMqexF",
        "colab_type": "text"
      },
      "source": [
        "\n",
        "\n",
        "### P2.PY\n",
        "\n",
        "\n"
      ]
    },
    {
      "cell_type": "code",
      "metadata": {
        "id": "RciMM3EZqexG",
        "colab_type": "code",
        "outputId": "33fe53c9-ce1f-47f7-b0f1-002b3881c1a2",
        "colab": {
          "base_uri": "https://localhost:8080/",
          "height": 35
        }
      },
      "source": [
        "\"\"\"\n",
        "Weather II - Precipitation\n",
        "\"\"\"\n",
        "\n",
        "# Repeat the same process as p1, using this new set of variables.\n",
        "\n",
        "sunny = True\n",
        "raining = True\n",
        "snowing = False\n",
        "\n",
        "is_it_sunny = sunny\n",
        "is_there_precipitation = raining or snowing\n",
        "is_it_sleeting = raining and snowing\n",
        "is_there_rainbow = sunny and raining\n",
        "\n",
        "print(is_it_sunny,is_there_precipitation,is_it_sleeting,is_there_rainbow)\n"
      ],
      "execution_count": 0,
      "outputs": [
        {
          "output_type": "stream",
          "text": [
            "True True False True\n"
          ],
          "name": "stdout"
        }
      ]
    },
    {
      "cell_type": "markdown",
      "metadata": {
        "id": "XnbQ85SVqexI",
        "colab_type": "text"
      },
      "source": [
        "\n",
        "\n",
        "### P3.PY\n",
        "\n",
        "\n"
      ]
    },
    {
      "cell_type": "code",
      "metadata": {
        "id": "wSbYvtV3qexI",
        "colab_type": "code",
        "colab": {}
      },
      "source": [
        "\"\"\"\n",
        "Weather III - Describe Conditions\n",
        "\"\"\"\n",
        "\n",
        "# Repeat the same process as p1, using this new set of variables.\n",
        "\n",
        "\n",
        "is_it_warm = True\n",
        "is_it_humid = True\n",
        "is_it_cold = False\n",
        "is_it_icy = False\n",
        "is_it_foggy = False\n",
        "is_it_windy = False\n",
        "is_it_overcast = True\n",
        "\n",
        "\n",
        "is_it_summer_weather = is_it_warm or is_it_humid\n",
        "is_rain_coming = is_it_overcast or is_it_foggy or is_it_windy\n",
        "is_it_muggy = is_it_warm or is_it_humid\n",
        "do_i_need_coat = is_it_cold or is_it_icy or is_it_windy\n",
        "\n"
      ],
      "execution_count": 0,
      "outputs": []
    },
    {
      "cell_type": "markdown",
      "metadata": {
        "id": "xKpCOmw7qexL",
        "colab_type": "text"
      },
      "source": [
        "\n",
        "\n",
        "## LOGIC\n",
        "\n",
        "### P1.PY\n",
        "\n",
        "\n"
      ]
    },
    {
      "cell_type": "code",
      "metadata": {
        "id": "gHqp0x5JqexL",
        "colab_type": "code",
        "outputId": "73df3eb4-972e-445c-b211-6df276e5caad",
        "colab": {
          "base_uri": "https://localhost:8080/",
          "height": 34
        }
      },
      "source": [
        "\"\"\"\n",
        "Calculate Grade\n",
        "\"\"\"\n",
        "  # expect this to be a number\n",
        "\n",
        "# write a program that will print the \"letter\"\n",
        "# equivalent of the grade, for example:\n",
        "# when grade = 90 # -> expect A\n",
        "# when grade = 80 # -> expect B\n",
        "# when grade = 70 # -> expect C\n",
        "# when grade = 60 # -> expect D\n",
        "# when grade = 54 # -> expect F\n",
        "# when grade = -10 # -> expect Error\n",
        "# when grade = 10000 # -> expect Error\n",
        "# when grade = \"lol skool sucks\" # -> expect Error\n",
        "\n",
        "grade = 15\n",
        "\n",
        "if 90 <= grade <= 100:\n",
        "  print('A')\n",
        "elif 80 <= grade <= 90:\n",
        "  print('B')\n",
        "elif 70 <= grade <= 80:\n",
        "  print('C')\n",
        "elif 60 <= grade <= 70:\n",
        "  print('D')\n",
        "elif 0 <= grade <= 60:\n",
        "  print('F')\n",
        "else:\n",
        "  print('Error')\n",
        "  "
      ],
      "execution_count": 0,
      "outputs": [
        {
          "output_type": "stream",
          "text": [
            "F\n"
          ],
          "name": "stdout"
        }
      ]
    },
    {
      "cell_type": "markdown",
      "metadata": {
        "id": "YrtwzRIsqexR",
        "colab_type": "text"
      },
      "source": [
        "\n",
        "\n",
        "### P2.PY\n",
        "\n",
        "\n"
      ]
    },
    {
      "cell_type": "code",
      "metadata": {
        "id": "0xp_8f7QqexS",
        "colab_type": "code",
        "outputId": "167c0ef1-81e6-4880-d38c-daa8eadab838",
        "colab": {
          "base_uri": "https://localhost:8080/",
          "height": 34
        }
      },
      "source": [
        "\"\"\"\n",
        "Sign of Product\n",
        "\"\"\"\n",
        "\n",
        "# Given three numbers, a, b, c, without multiplying, determine the sign of their product.\n",
        "\n",
        "# EXAMPLE: a = -5, b = 6, c = -4, print 1\n",
        "\n",
        "# EXAMPLE: a = 5, b = 6, c = -4, print -1\n",
        "\n",
        "a = -1\n",
        "b = -2\n",
        "c = 3\n",
        "\n",
        "if a < 0 and b > 0 and c > 0:\n",
        "  print(-1)\n",
        "elif a > 0 and b < 0 and c > 0:\n",
        "  print(-1)\n",
        "elif a > 0 and b > 0 and c < 0:\n",
        "  print(-1)\n",
        "elif a < 0 and b < 0 and c > 0:\n",
        "  print(1)\n",
        "elif a < 0 and b > 0 and c < 0:\n",
        "  print(1)\n",
        "elif a < 0 and b > 0 and c < 0:\n",
        "  print(1)\n",
        "else:\n",
        "  print(-1)"
      ],
      "execution_count": 0,
      "outputs": [
        {
          "output_type": "stream",
          "text": [
            "1\n"
          ],
          "name": "stdout"
        }
      ]
    },
    {
      "cell_type": "markdown",
      "metadata": {
        "id": "Y-PDs3HdqexU",
        "colab_type": "text"
      },
      "source": [
        "\n",
        "\n",
        "### P3.PY\n",
        "\n",
        "\n"
      ]
    },
    {
      "cell_type": "code",
      "metadata": {
        "id": "ZxfZuYsaqexV",
        "colab_type": "code",
        "outputId": "0c2396d2-b621-4586-be3e-94cdc345effe",
        "colab": {
          "base_uri": "https://localhost:8080/",
          "height": 51
        }
      },
      "source": [
        "\"\"\"\n",
        "Any Uppercase\n",
        "\"\"\"\n",
        "\n",
        "# Given a string str, determine if there are any uppercase values in it. Use only conditional statements and string methods (you may have to look some up!)\n",
        "\n",
        "# EXAMPLE: str = \"teSt\", print True\n",
        "\n",
        "string = 'teSt'\n",
        "\n",
        "if string.isupper(): \n",
        "  print(False)\n",
        "else:\n",
        "  print(True)\n",
        "\n",
        "str_ = 'hello'\n",
        "str_lower = str_.lower()\n",
        "\n",
        "if str_ == str_lower:\n",
        "  print(False)\n",
        "else:\n",
        "  print(True)"
      ],
      "execution_count": 0,
      "outputs": [
        {
          "output_type": "stream",
          "text": [
            "True\n",
            "False\n"
          ],
          "name": "stdout"
        }
      ]
    },
    {
      "cell_type": "markdown",
      "metadata": {
        "id": "dxH0jEu0qexX",
        "colab_type": "text"
      },
      "source": [
        "\n",
        "\n",
        "### P4.PY\n",
        "\n",
        "\n"
      ]
    },
    {
      "cell_type": "code",
      "metadata": {
        "id": "D7Ps0D5WqexY",
        "colab_type": "code",
        "outputId": "30ffa42f-b6f5-4f0b-dbce-ea44c7262f22",
        "colab": {
          "base_uri": "https://localhost:8080/",
          "height": 34
        }
      },
      "source": [
        "\"\"\"\n",
        "Empty Strings\n",
        "\"\"\"\n",
        "\n",
        "# Given any empty string, of the form:\n",
        "\n",
        "# ''\n",
        "# ' '\n",
        "# '  '\n",
        "# any other num of spaces...\n",
        "\n",
        "# determine if the str is empty or not (print True or False). Hint: You'll need to look up how to remove trailing spaces from a string.\n",
        "\n",
        "string = \" \"\n",
        "string.isspace()\n",
        "  \n",
        "x = '        '\n",
        "if x.strip() == '':\n",
        "    print(True)\n",
        "else:\n",
        "    print(False)\n"
      ],
      "execution_count": 0,
      "outputs": [
        {
          "output_type": "stream",
          "text": [
            "True\n"
          ],
          "name": "stdout"
        }
      ]
    },
    {
      "cell_type": "markdown",
      "metadata": {
        "id": "I6oHWLH2qexb",
        "colab_type": "text"
      },
      "source": [
        "\n",
        "\n",
        "### P5.PY\n",
        "\n",
        "\n"
      ]
    },
    {
      "cell_type": "code",
      "metadata": {
        "id": "loax167Qqexd",
        "colab_type": "code",
        "outputId": "a28d9a41-639d-4bfd-e173-42ec649a34aa",
        "colab": {
          "base_uri": "https://localhost:8080/",
          "height": 35
        }
      },
      "source": [
        "\"\"\"\n",
        "truthTableEvaluator\n",
        "\"\"\"\n",
        "\n",
        "# Given the following inputs:\n",
        "\n",
        "\n",
        "# P = # True or False\n",
        "# Q = # True or False\n",
        "# op = # '^' (logical AND, conjunction)\n",
        "#      # OR, 'v' (logical OR, disjunction)\n",
        "#      # OR, '->' (logical conditional, implication)\n",
        "#      # OR, '<->' (biconditional)\n",
        "# determine the correct outcome.\n",
        "\n",
        "# https://medium.com/i-math/intro-to-truth-tables-boolean-algebra-73b331dd9b94\n",
        "\n",
        "\n",
        "'''\n",
        "P | Q | P and Q | P or Q | P implied Q | P if and only if Q\n",
        "T   T      T         T          T                T\n",
        "T   F      F         T          F                F\n",
        "F   T      F         T          T                F\n",
        "F   F      F         F          T                T\n",
        "'''\n",
        "\n",
        "P = True\n",
        "Q = False\n",
        "op = \"^\"\n",
        "\n",
        "if op == '^':\n",
        "  if P and Q:\n",
        "    print(True)\n",
        "  else:\n",
        "    print(False)\n",
        "elif op == 'V':\n",
        "  if P or Q:\n",
        "    print(True)\n",
        "  else:\n",
        "    print(False)\n",
        "elif op == '->':\n",
        "  if P and not Q:\n",
        "    print(True)\n",
        "  else:\n",
        "    print(False)\n",
        "elif op == '<->' :\n",
        "  if P == Q:\n",
        "    print(True)\n",
        "  else:\n",
        "    print(False)"
      ],
      "execution_count": 3,
      "outputs": [
        {
          "output_type": "stream",
          "text": [
            "False\n"
          ],
          "name": "stdout"
        }
      ]
    },
    {
      "cell_type": "markdown",
      "metadata": {
        "id": "Nik4-tEJqexg",
        "colab_type": "text"
      },
      "source": [
        "\n",
        "\n",
        "## RANDOM_NUMS\n",
        "\n",
        "### P1.PY\n",
        "\n",
        "\n"
      ]
    },
    {
      "cell_type": "code",
      "metadata": {
        "id": "HuGprukbqexi",
        "colab_type": "code",
        "outputId": "fd5ef2f6-614d-434f-e33e-84b43f29b095",
        "colab": {
          "base_uri": "https://localhost:8080/",
          "height": 51
        }
      },
      "source": [
        "\"\"\"\n",
        "Generate Traffic Light\n",
        "\"\"\"\n",
        "\n",
        "# import python random package\n",
        "\n",
        "\n",
        "# generates a random number from 1 to 3\n",
        "\n",
        "\n",
        "# if 1, print 'red'\n",
        "# if 2, print 'green',\n",
        "# if 3, print 'yellow'\n",
        "\n",
        "from random import randint\n",
        "randn = randint(1, 3)\n",
        "\n",
        "print(randn)\n",
        "if randn == 1:\n",
        "  print('red')\n",
        "elif randn == 2:\n",
        "  print('green')\n",
        "else:\n",
        "  print('yellow')"
      ],
      "execution_count": 0,
      "outputs": [
        {
          "output_type": "stream",
          "text": [
            "2\n",
            "green\n"
          ],
          "name": "stdout"
        }
      ]
    },
    {
      "cell_type": "markdown",
      "metadata": {
        "id": "nNcTCj7Wqexl",
        "colab_type": "text"
      },
      "source": [
        "\n",
        "\n",
        "### P2.PY\n",
        "\n",
        "\n"
      ]
    },
    {
      "cell_type": "code",
      "metadata": {
        "id": "avBhjZTcqexm",
        "colab_type": "code",
        "outputId": "283f968d-e12f-4746-c25b-37946c1c8acd",
        "colab": {
          "base_uri": "https://localhost:8080/",
          "height": 34
        }
      },
      "source": [
        "\"\"\"\n",
        "Generate Phone Number w/Area Code\n",
        "\"\"\"\n",
        "\n",
        "# import python random package\n",
        "\n",
        "\n",
        "# generate a random phone number of the form:\n",
        "# 1-718-786-2825\n",
        "# This should be a string\n",
        "# Valid Area Codes are: 646, 718, 212\n",
        "# if phone number doesn't have [646, 718, 212]\n",
        "# as area code, pick one of the above at random\n",
        "\n",
        "a = randint(1,3)\n",
        "if a == 1:\n",
        "  a = 646\n",
        "elif a == 2:\n",
        "  a = 718\n",
        "else:\n",
        "  a = 212\n",
        "  \n",
        "b = randint(0, 999)\n",
        "if b < 10:\n",
        "  b = f\"00{b}\" #\"006\"\n",
        "elif b < 100:  #66\n",
        "  b = f\"0{b}\"  #\"006\"\n",
        "  \n",
        "c = randint(1000, 9999)\n",
        "if c < 10:\n",
        "  c = f\"000{c}\" \n",
        "elif b < 100:  \n",
        "  c = f\"00{c}\" \n",
        "elif c < 1000:  \n",
        "  c = f\"00{c}\"  \n",
        "  \n",
        "phone = f\"1-{a}-{b}-{c}\"\n",
        "\n",
        "print(phone)"
      ],
      "execution_count": 0,
      "outputs": [
        {
          "output_type": "stream",
          "text": [
            "1-646-795-4209\n"
          ],
          "name": "stdout"
        }
      ]
    },
    {
      "cell_type": "markdown",
      "metadata": {
        "id": "znHPn6Puqexo",
        "colab_type": "text"
      },
      "source": [
        "\n"
      ]
    }
  ]
}