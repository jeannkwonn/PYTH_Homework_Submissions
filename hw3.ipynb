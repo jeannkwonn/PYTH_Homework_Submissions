{
  "nbformat": 4,
  "nbformat_minor": 0,
  "metadata": {
    "colab": {
      "name": "hw3.ipynb",
      "version": "0.3.2",
      "provenance": [],
      "collapsed_sections": [],
      "include_colab_link": true
    },
    "kernelspec": {
      "name": "python3",
      "display_name": "Python 3"
    }
  },
  "cells": [
    {
      "cell_type": "markdown",
      "metadata": {
        "id": "view-in-github",
        "colab_type": "text"
      },
      "source": [
        "<a href=\"https://colab.research.google.com/github/jeannkwonn/PYTH_Homework_Submissions/blob/master/hw3.ipynb\" target=\"_parent\"><img src=\"https://colab.research.google.com/assets/colab-badge.svg\" alt=\"Open In Colab\"/></a>"
      ]
    },
    {
      "cell_type": "markdown",
      "metadata": {
        "id": "Jn_Tz7YOTX7E",
        "colab_type": "text"
      },
      "source": [
        "<a href=\"https://colab.research.google.com/github/mottaquikarim/PYTH2/blob/master/src/PSETS/nb/hw2.ipynb\" target=\"_parent\"><img src=\"https://colab.research.google.com/assets/colab-badge.svg\" alt=\"Open In Colab\"/></a>"
      ]
    },
    {
      "cell_type": "markdown",
      "metadata": {
        "id": "cW1DpFXiTX7G",
        "colab_type": "text"
      },
      "source": [
        "#  LISTS\n",
        "\n",
        "## LIST_MANIPULATION\n",
        "\n",
        "### P1.PY Phone Numbers\n"
      ]
    },
    {
      "cell_type": "code",
      "metadata": {
        "id": "l_llBhznTX7G",
        "colab_type": "code",
        "outputId": "463fb8d5-e20d-4a92-a062-9066463f8671",
        "colab": {
          "base_uri": "https://localhost:8080/",
          "height": 35
        }
      },
      "source": [
        "\"\"\"\n",
        "Phone Numbers\n",
        "\"\"\"\n",
        "\n",
        "# Parse this phone number so that a computer can process\n",
        "# it. (Hint: It can't include any non-numeric\n",
        "# characters.)\n",
        "\n",
        "cell = '1.192.168.0143'\n",
        "\n",
        "cell_number = ''.join(a for a in cell if a.isnumeric())\n",
        "print(cell_number)"
      ],
      "execution_count": 0,
      "outputs": [
        {
          "output_type": "stream",
          "text": [
            "11921680143\n"
          ],
          "name": "stdout"
        }
      ]
    },
    {
      "cell_type": "markdown",
      "metadata": {
        "id": "FRQTfs8BTX7J",
        "colab_type": "text"
      },
      "source": [
        "\n",
        "\n",
        "### P2.PY Basic Math Ops\n",
        "\n",
        "\n"
      ]
    },
    {
      "cell_type": "code",
      "metadata": {
        "id": "7ulpLWL6TX7K",
        "colab_type": "code",
        "outputId": "4ce812f2-5532-40c0-c32a-bd2778bfc40e",
        "colab": {
          "base_uri": "https://localhost:8080/",
          "height": 136
        }
      },
      "source": [
        "\"\"\"\n",
        "Basic Math Ops\n",
        "\"\"\"\n",
        "\n",
        "# Given the list below, assign the correct values to the variables below.\n",
        "\t# my_sum = \n",
        "\t# my_min = \n",
        "\t# my_max = \n",
        "\t# my_range = \n",
        "\t# my_mean =\n",
        "\n",
        "nums = [2, 19, 20, 12, 6, 24, 8, 30, 28, 25]\n",
        "\n",
        "# Once you finish, print out each value **on its own line** in this format: \"my_median = \" etc.\n",
        "\n",
        "my_sum = sum(nums)\n",
        "my_min = min(nums)\n",
        "my_max = max(nums)\n",
        "my_range = max(nums)-min(nums)\n",
        "my_mean = sum(nums) / len(nums)\n",
        "\n",
        "print(f'''\n",
        "my_sum = {my_sum}\n",
        "my_min = {my_min}\n",
        "my_max = {my_max}\n",
        "my_range = {my_range}\n",
        "my_mean = {my_mean}\n",
        "''')"
      ],
      "execution_count": 0,
      "outputs": [
        {
          "output_type": "stream",
          "text": [
            "\n",
            "my_sum = 174\n",
            "my_min = 2\n",
            "my_max = 30\n",
            "my_range = 28\n",
            "my_mean = 17.4\n",
            "\n"
          ],
          "name": "stdout"
        }
      ]
    },
    {
      "cell_type": "markdown",
      "metadata": {
        "id": "-ylDjYkZTX7M",
        "colab_type": "text"
      },
      "source": [
        "\n",
        "\n",
        "### P3.PY Merge Lists with Duplicates\n",
        "\n"
      ]
    },
    {
      "cell_type": "code",
      "metadata": {
        "id": "5IkTnkr8TX7N",
        "colab_type": "code",
        "outputId": "fe5fdd42-78bb-4e14-8155-300922542ed7",
        "colab": {
          "base_uri": "https://localhost:8080/",
          "height": 102
        }
      },
      "source": [
        "\"\"\"\n",
        "Merge Lists with Duplicates\n",
        "\"\"\"\n",
        "\n",
        "# Use the two lists below to solve this problem. Print out the result from each section as you go along.\n",
        "\n",
        "list1, list2 = [2, 8, 6], [10, 4, 12]\n",
        "\n",
        "\n",
        "# A) Add another instance of each item in list1 to list1 again and assign the results to list3.\n",
        "list3 = list1 + list1\n",
        "print(list3)\n",
        "\n",
        "# B) Combine the two given lists and assign them to list4.\n",
        "list4 = list1 + list2\n",
        "print(list4)\n",
        "\n",
        "# C) Replace the first 3 items in list 3 with the numbers 13, 16, 9.\n",
        "list3[:2] = [13, 16, 9]\n",
        "print(list3)\n",
        "\n",
        "# D) Merge list3 and list4 to create a list containing no duplicates and store this in list5.\n",
        "list5 = list3 + list4\n",
        "print(list5)\n",
        "\n",
        "list5 = list(set(list5))\n",
        "print(list5)\n",
        "\n",
        "# Take a look at your printed statements to see the evolution of your lists with each step of this problem.\n"
      ],
      "execution_count": 0,
      "outputs": [
        {
          "output_type": "stream",
          "text": [
            "[2, 8, 6, 2, 8, 6]\n",
            "[2, 8, 6, 10, 4, 12]\n",
            "[13, 16, 9, 6, 2, 8, 6]\n",
            "[13, 16, 9, 6, 2, 8, 6, 2, 8, 6, 10, 4, 12]\n",
            "[2, 4, 6, 8, 9, 10, 12, 13, 16]\n"
          ],
          "name": "stdout"
        }
      ]
    },
    {
      "cell_type": "markdown",
      "metadata": {
        "id": "jMmIatulTX7P",
        "colab_type": "text"
      },
      "source": [
        "\n",
        "\n",
        "### P4.PY Spotify Playlists - Sorting\n"
      ]
    },
    {
      "cell_type": "code",
      "metadata": {
        "id": "Dau4tPzaTX7Q",
        "colab_type": "code",
        "outputId": "0c2140f3-312a-4e6c-bbac-3edc0d7e0b99",
        "colab": {
          "base_uri": "https://localhost:8080/",
          "height": 73
        }
      },
      "source": [
        "\"\"\"\n",
        "Spotify Playlists - Sorting\n",
        "\"\"\"\n",
        "\n",
        "# You work for Spotify and are creating a feature for users to alphabetize their playlists by song title. Below is a list of titles from a sample playlist.\n",
        "\n",
        "playlist_titles = ['Tiny Dancer', 'At Last', 'Fortunate Son', \n",
        "'Hey Jude', 'Isn\\'t She Lovely', 'Just the Way You Are', 'I\\'m Yours',\n",
        "'Vienna', 'Roxanne', 'Dancing in the Moonlight']\n",
        "\n",
        "# Alphabetize these songs and print the result.\n",
        "\n",
        "playlist_titles.sort()\n",
        "print(playlist_titles)\n",
        "\n",
        "\n",
        "# Now do the reverse.\n",
        "\n",
        "playlist_titles.sort(reverse = True)\n",
        "print(playlist_titles)"
      ],
      "execution_count": 0,
      "outputs": [
        {
          "output_type": "stream",
          "text": [
            "['At Last', 'Dancing in the Moonlight', 'Fortunate Son', 'Hey Jude', \"I'm Yours\", \"Isn't She Lovely\", 'Just the Way You Are', 'Roxanne', 'Tiny Dancer', 'Vienna']\n",
            "['Vienna', 'Tiny Dancer', 'Roxanne', 'Just the Way You Are', \"Isn't She Lovely\", \"I'm Yours\", 'Hey Jude', 'Fortunate Son', 'Dancing in the Moonlight', 'At Last']\n"
          ],
          "name": "stdout"
        }
      ]
    },
    {
      "cell_type": "markdown",
      "metadata": {
        "id": "29dT9CMWTX7S",
        "colab_type": "text"
      },
      "source": [
        "\n",
        "\n",
        "### P5.PY Cool Runnings!\n"
      ]
    },
    {
      "cell_type": "code",
      "metadata": {
        "id": "Qo4KLpAOTX7T",
        "colab_type": "code",
        "outputId": "a1fd7aed-9c4d-49ad-a8d4-e942c07e77c7",
        "colab": {
          "base_uri": "https://localhost:8080/",
          "height": 73
        }
      },
      "source": [
        "\"\"\"\n",
        "Cool Runnings!\n",
        "\"\"\"\n",
        "\n",
        "# Here's a quote from the movie 'Cool Runnings'. :)\n",
        "\n",
        "# Replace the word bobsled with \"YOLO\" and print the resultant list as 4 sentences (i.e. NOT a list), each on a new line.\n",
        "\n",
        "cool_runnings = [\n",
        "\t'Feel', 'the', 'rhythm.',\n",
        "\t'Feel', 'the', 'rhyme.',\n",
        "\t'Get', 'on', 'up.',\n",
        "\t'It\\'s', 'bobsled', 'time!'\n",
        "]\n",
        "\n",
        "cool_runnings[10] = 'Yolo'\n",
        "print(cool_runnings)\n",
        "\n",
        "sentence = ' '.join(cool_runnings)\n",
        "print(sentence)"
      ],
      "execution_count": 0,
      "outputs": [
        {
          "output_type": "stream",
          "text": [
            "['Feel', 'the', 'rhythm.', 'Feel', 'the', 'rhyme.', 'Get', 'on', 'up.', \"It's\", 'Yolo', 'time!']\n",
            "Feel the rhythm. Feel the rhyme. Get on up. It's Yolo time!\n"
          ],
          "name": "stdout"
        }
      ]
    },
    {
      "cell_type": "markdown",
      "metadata": {
        "id": "Cq_f9Z91TX7U",
        "colab_type": "text"
      },
      "source": [
        "\n",
        "\n",
        "## LIST_CHALLENGES\n",
        "\n",
        "### P1.PY CHALLENGE - Extensions\n"
      ]
    },
    {
      "cell_type": "code",
      "metadata": {
        "id": "iXLWjJcKTX7V",
        "colab_type": "code",
        "outputId": "99952c57-96f8-45e4-d487-8e672edda322",
        "colab": {
          "base_uri": "https://localhost:8080/",
          "height": 35
        }
      },
      "source": [
        "\"\"\"\n",
        "CHALLENGE - Extensions\n",
        "\"\"\"\n",
        "\n",
        "# ** Challenge** Add each element of the tuple1 to list1 *individually* and print the result.\n",
        "\n",
        "list1 = [6, 12, 9, 4, 10, 1]\n",
        "tuple1 = [(15,3), (6,2), (1, 8)]\n",
        "\n",
        "list2 = []\n",
        "list2.extend(tuple1[0])\n",
        "list2.extend(tuple1[1])\n",
        "list2.extend(tuple1[2])\n",
        "\n",
        "list1.extend(list2)\n",
        "print(list1)"
      ],
      "execution_count": 13,
      "outputs": [
        {
          "output_type": "stream",
          "text": [
            "[6, 12, 9, 4, 10, 1, 15, 3, 6, 2, 1, 8]\n"
          ],
          "name": "stdout"
        }
      ]
    },
    {
      "cell_type": "markdown",
      "metadata": {
        "id": "QfPEvH_tTX7X",
        "colab_type": "text"
      },
      "source": [
        "\n",
        "\n",
        "### P2.PY CHALLENGE - Core Statistics Calculations\n"
      ]
    },
    {
      "cell_type": "code",
      "metadata": {
        "id": "8jtx_yp1TX7Y",
        "colab_type": "code",
        "outputId": "de0a9a2e-e895-41ba-8d43-c228ef46b4be",
        "colab": {
          "base_uri": "https://localhost:8080/",
          "height": 107
        }
      },
      "source": [
        "\"\"\"\n",
        "CHALLENGE - Core Statistics Calculations\n",
        "\"\"\"\n",
        "\n",
        "# Given the sample below, find the mean, median, mode, variance, and standard deviation of this sample. Print them out separately, but in the same format as before.\n",
        "\t# my_median = \n",
        "\t# my_mode = \n",
        "\t# my_variance = \n",
        "\t# my_sd = \n",
        "\n",
        "sample = [6, 19, 20, 12, 6, 24, 8, 30, 28, 25]\n",
        "\n",
        "# Sorting the sample list\n",
        "\n",
        "sample_sorted = sorted(sample)\n",
        "print(sample_sorted)\n",
        "\n",
        "first_half = int(len(sample) / 2)\n",
        "second_half = int((len(sample) / 2) - 1)\n",
        "\n",
        "my_median = (sample_sorted[first_half] + sample_sorted[second_half] / 2) \n",
        "print(my_median)\n",
        "\n",
        "my_mode = statistics.mode(sample)\n",
        "print(my_mode)\n",
        "\n",
        "my_variance = max(sample) - min(sample)\n",
        "print(my_variance)\n",
        "\n",
        "import statistics\n",
        "statistics.pstdev([6, 19, 20, 12, 6, 24, 8, 30, 28, 25])\n",
        "\n",
        "# Once you finish, print out each value **on its own line** in this format: \"median = \" etc.\n",
        "\n"
      ],
      "execution_count": 12,
      "outputs": [
        {
          "output_type": "stream",
          "text": [
            "[6, 6, 8, 12, 19, 20, 24, 25, 28, 30]\n",
            "29.5\n",
            "6\n",
            "24\n"
          ],
          "name": "stdout"
        },
        {
          "output_type": "execute_result",
          "data": {
            "text/plain": [
              "8.704022058795578"
            ]
          },
          "metadata": {
            "tags": []
          },
          "execution_count": 12
        }
      ]
    },
    {
      "cell_type": "markdown",
      "metadata": {
        "id": "mtpz-d-XTX7c",
        "colab_type": "text"
      },
      "source": [
        "\n",
        "\n",
        "#  DICTS\n",
        "\n",
        "## DICT_OPS\n",
        "\n",
        "### P1.PY Basic Dict Concepts\n"
      ]
    },
    {
      "cell_type": "code",
      "metadata": {
        "id": "Q4k5WgANTX7d",
        "colab_type": "code",
        "outputId": "43861302-9317-4540-88db-f95324d64c60",
        "colab": {
          "base_uri": "https://localhost:8080/",
          "height": 181
        }
      },
      "source": [
        "\"\"\"\n",
        "Basic Dict Concepts\n",
        "\"\"\"\n",
        "\n",
        "# A) Declare an empty dict as d1.\n",
        "\n",
        "d1 = {}\n",
        "\n",
        "# B) Create a dict called d2 containing the first and last names below:\n",
        "# Anthony Paollelo, Ping Qiao, Enrique Alvarez, Arjun Dhir \n",
        "\n",
        "d2 = {\n",
        "    'Anthony': 'Paollelo', \n",
        "    'Ping': 'Qiao',\n",
        "    'Enrique': 'Alvarez',\n",
        "    'Arjun': 'Dhir'\n",
        "}\n",
        "\n",
        "# C) Add Allison Zhang person to d2.\n",
        "\n",
        "d2['Allison'] = 'Zhang'\n",
        "\n",
        "# D) How many people are now in d2? Print out all their *first* names in the vars below.\n",
        "\n",
        "num_people = len(d2)\n",
        "print(num_people)\n",
        "\n",
        "### first_names = \n",
        "first_names = d2.keys()\n",
        "print(first_names)\n",
        "\n",
        "\n",
        "# E) Delete a random person from d2 and print his/her name in the var below.\n",
        "\n",
        "### x = \n",
        "## first, convert to list\n",
        "dict_items = list(d2.items())\n",
        "print(dict_items)\n",
        "\n",
        "## then, pick a random number within list\n",
        "from random import randint\n",
        "random_index = randint(0, len(dict_items)-1)\n",
        "\n",
        "print({random_index})\n",
        "\n",
        "## remove that index from dict_items\n",
        "x = dict_items.pop(random_index)\n",
        "print(x)\n",
        "\n",
        "## convert dict_items back to dict\n",
        "\n",
        "d2 = dict(dict_items)\n",
        "print(f'd2, now without: {x}, \\n{d2}')\n",
        "\n",
        "# F) Re-add the name you deleted to the end of d2.\n",
        "key = x[0]\n",
        "value = x[1]\n",
        "\n",
        "d2[key] = value\n",
        "print(d2)"
      ],
      "execution_count": 0,
      "outputs": [
        {
          "output_type": "stream",
          "text": [
            "5\n",
            "dict_keys(['Anthony', 'Ping', 'Enrique', 'Arjun', 'Allison'])\n",
            "[('Anthony', 'Paollelo'), ('Ping', 'Qiao'), ('Enrique', 'Alvarez'), ('Arjun', 'Dhir'), ('Allison', 'Zhang')]\n",
            "{3}\n",
            "('Arjun', 'Dhir')\n",
            "d2, now without: ('Arjun', 'Dhir'), \n",
            "{'Anthony': 'Paollelo', 'Ping': 'Qiao', 'Enrique': 'Alvarez', 'Allison': 'Zhang'}\n",
            "{'Anthony': 'Paollelo', 'Ping': 'Qiao', 'Enrique': 'Alvarez', 'Allison': 'Zhang', 'Arjun': 'Dhir'}\n"
          ],
          "name": "stdout"
        }
      ]
    },
    {
      "cell_type": "markdown",
      "metadata": {
        "id": "kJzGzJo_TX7f",
        "colab_type": "text"
      },
      "source": [
        "\n",
        "\n",
        "### P2.PY Merging Dicts\n",
        "\n",
        "\n"
      ]
    },
    {
      "cell_type": "code",
      "metadata": {
        "id": "dUOe_XrNTX7g",
        "colab_type": "code",
        "outputId": "1e1a225a-151b-4d24-ff5a-e50c3085fd72",
        "colab": {
          "base_uri": "https://localhost:8080/",
          "height": 53
        }
      },
      "source": [
        "\"\"\"\n",
        "Merging Dicts\n",
        "\"\"\"\n",
        "\n",
        "# Merge these two dicts without creating a new one.\n",
        "\n",
        "d1 = {'a': 100, 'b': 200}\n",
        "d2 = {'c': 300, 'd': 400, 'e': 500}\n",
        "\n",
        "d1 = {'a': 100, 'b': 200}\n",
        "d2 = {'c': 300, 'd': 400, 'e': 500}\n",
        "\n",
        "d1.update(d2)\n",
        "print(d1)\n",
        "\n",
        "d1_collection = list(d1.items())\n",
        "d2_collection = list(d2.items())\n",
        "\n",
        "d1_collection.extend(d2_collection)\n",
        "print(dict(d1_collection))"
      ],
      "execution_count": 0,
      "outputs": [
        {
          "output_type": "stream",
          "text": [
            "{'a': 100, 'b': 200, 'c': 300, 'd': 400, 'e': 500}\n",
            "{'a': 100, 'b': 200, 'c': 300, 'd': 400, 'e': 500}\n"
          ],
          "name": "stdout"
        }
      ]
    },
    {
      "cell_type": "markdown",
      "metadata": {
        "id": "hQiKRIF_TX7i",
        "colab_type": "text"
      },
      "source": [
        "\n",
        "\n",
        "### P3.PY Math with Girl Scout Cookies\n",
        "\n",
        "\n"
      ]
    },
    {
      "cell_type": "code",
      "metadata": {
        "id": "-tPsk3k8TX7j",
        "colab_type": "code",
        "outputId": "ae36a7d3-7521-4258-a857-0fe4d32f6866",
        "colab": {
          "base_uri": "https://localhost:8080/",
          "height": 161
        }
      },
      "source": [
        "\"\"\"\n",
        "Math with Girl Scout Cookies\n",
        "\"\"\"\n",
        "\n",
        "# Print out the number of boxes of girl scout cookies that each girl in the troop sold in the below format:\n",
        "\n",
        "Wendy = {'tagalongs': 5, 'thin mints': 12, 'samoas': 8}\n",
        "Connie = {'tagalongs': 10, 'thin mints': 4, 'samoas': 12}\n",
        "Francesca = {'tagalongs': 18, 'thin mints': 14, 'samoas': 10}\n",
        "\n",
        "salesW = sum(Wendy.values())\n",
        "salesC = sum(Connie.values())\n",
        "salesF = sum(Francesca.values())\n",
        "\n",
        "print(salesW)\n",
        "print(salesC)\n",
        "print(salesF)\n",
        "\n",
        "# For each type of girl scout cookie, print out the total number of boxes sold in the below format:\n",
        "total_tagalongs = Wendy['tagalongs'] + Connie['tagalongs'] + Francesca['tagalongs']\n",
        "print(total_tagalongs)\n",
        "\n",
        "total_thinmints = Wendy['thin mints'] + Connie['thin mints'] + Francesca['thin mints']\n",
        "print(total_thinmints)\n",
        "\n",
        "total_samoas = Wendy['samoas'] + Connie['samoas'] + Francesca['samoas']\n",
        "print(total_samoas)\n",
        "\n",
        "# For each type of girl scout cookie, print out the average number of boxes sold in the below format:\n",
        "\n",
        "avg_tagalongs = total_tagalongs / 3\n",
        "avg_thinmints = total_thinmints / 3\n",
        "avg_samoas = total_samoas / 3\n",
        "\n",
        "print(avg_tagalongs, avg_thinmints, avg_samoas)\n",
        "\n",
        "# Print out total the number of boxes of cookies the girls sold collectively as follows:\n",
        "\t# \"This year we sold ______ boxes!\"\n",
        "\n",
        "boxes_sold = salesW + salesC + salesF\n",
        "print(f'This year we sold: {boxes_sold}')"
      ],
      "execution_count": 20,
      "outputs": [
        {
          "output_type": "stream",
          "text": [
            "25\n",
            "26\n",
            "42\n",
            "33\n",
            "30\n",
            "30\n",
            "11.0 10.0 10.0\n",
            "This year we sold: 93\n"
          ],
          "name": "stdout"
        }
      ]
    },
    {
      "cell_type": "markdown",
      "metadata": {
        "id": "KjdZB-qnTX7l",
        "colab_type": "text"
      },
      "source": [
        "\n",
        "\n",
        "### P4.PY Inverting Keys & Values\n",
        "\n",
        "\n"
      ]
    },
    {
      "cell_type": "code",
      "metadata": {
        "id": "TDx8pACITX7n",
        "colab_type": "code",
        "outputId": "def98702-ff92-4ee1-f516-f0cebd5b32d8",
        "colab": {
          "base_uri": "https://localhost:8080/",
          "height": 35
        }
      },
      "source": [
        "\"\"\"\n",
        "Inverting Keys & Values\n",
        "\"\"\"\n",
        "\n",
        "# Invert dict1 - make the current keys into values and the current values into keys.\n",
        "\n",
        "\n",
        "dict1 = { \"k1\" : \"v1\", \"k2\" : \"v2\", \"k3\" : \"v1\" }\n",
        "\n",
        "dict2 = dict(map(reversed, dict1.items()))\n",
        "\n",
        "print(dict2)"
      ],
      "execution_count": 0,
      "outputs": [
        {
          "output_type": "stream",
          "text": [
            "{'v1': 'k3', 'v2': 'k2'}\n"
          ],
          "name": "stdout"
        }
      ]
    },
    {
      "cell_type": "markdown",
      "metadata": {
        "id": "OcaPAmvWTX7p",
        "colab_type": "text"
      },
      "source": [
        "\n",
        "\n",
        "### P5.PY Lists to Dicts\n",
        "\n",
        "\n"
      ]
    },
    {
      "cell_type": "code",
      "metadata": {
        "id": "F0Xcdu-1TX7q",
        "colab_type": "code",
        "outputId": "375798d4-f9fc-4b36-a60e-99a157d5a010",
        "colab": {
          "base_uri": "https://localhost:8080/",
          "height": 35
        }
      },
      "source": [
        "\"\"\"\n",
        "Lists to Dicts\n",
        "\"\"\"\n",
        "\n",
        "# Turn these two lists into a dict called grades.\n",
        "\n",
        "names = ['Taq', 'Zola', 'Valerie', 'Valerie']\n",
        "scores = [[98, 89, 92, 94], [86, 45, 98, 100], [100, 100, 100, 100], [76, 79, 80, 82]]\n",
        "\n",
        "### grades = \n",
        "\n",
        "grades = dict(zip(names, scores))\n",
        "\n",
        "print(grades)"
      ],
      "execution_count": 0,
      "outputs": [
        {
          "output_type": "stream",
          "text": [
            "{'Taq': [98, 89, 92, 94], 'Zola': [86, 45, 98, 100], 'Valerie': [76, 79, 80, 82]}\n"
          ],
          "name": "stdout"
        }
      ]
    },
    {
      "cell_type": "markdown",
      "metadata": {
        "id": "7QpTeA7GTX7s",
        "colab_type": "text"
      },
      "source": [
        "\n",
        "\n",
        "## SEARCH_VALIDATION\n",
        "\n",
        "### P1.PY Login Credentials\n",
        "\n",
        "\n"
      ]
    },
    {
      "cell_type": "code",
      "metadata": {
        "id": "5Nl1mhEMTX7s",
        "colab_type": "code",
        "outputId": "d710314f-ad4f-4f09-ba4e-53573be4fbfa",
        "colab": {
          "base_uri": "https://localhost:8080/",
          "height": 35
        }
      },
      "source": [
        "\"\"\"\n",
        "Login Credentials\n",
        "\"\"\"\n",
        "\n",
        "# Imagine you work for a movie streaming service. You're in charge of safeguarding user privacy by ensuring the login feature remains secure. For the sake of example only, below is the dict of user login info. Normally, you wouldn't have access to see this unencrypted of course!\n",
        "\n",
        "users = {\n",
        "\t'person@email.com': 'PassWord',\n",
        "\t'someone@email.com': 'hiitsme',\n",
        "\t'me@email.com': 'myPassword',\n",
        "\t'anyone@email.com': 'IMawesome',\n",
        "\t'guy@email.com': 'pa$$wordz'\n",
        "\t# etc\n",
        "}\n",
        "\n",
        "\n",
        "# A user enters the below login info (email and password) for your app. Search your database of user logins to see if this account exists and if the password matches what you have on file. If the login credentials are correct, print \"Successful login!\". Otherwise, print \"The login info you entered does not match any of our records.\"\n",
        "\n",
        "current_user = { 'me@email.com': 'myPassword' }\n",
        "\n",
        "if 'current_user' in users.keys():\n",
        "  print('Successful login!')\n",
        "else:\n",
        "  print('The login info you entered does not match any of our records.')"
      ],
      "execution_count": 0,
      "outputs": [
        {
          "output_type": "stream",
          "text": [
            "The login info you entered does not match any of our records.\n"
          ],
          "name": "stdout"
        }
      ]
    },
    {
      "cell_type": "markdown",
      "metadata": {
        "id": "hvuzTjUaTX7u",
        "colab_type": "text"
      },
      "source": [
        "\n",
        "\n",
        "## COUNTERS_CHALLENGE\n",
        "\n",
        "### P1.PY CHALLENGE - Word Frequency\n",
        "\n",
        "\n"
      ]
    },
    {
      "cell_type": "code",
      "metadata": {
        "id": "jsF64NtgTX7v",
        "colab_type": "code",
        "outputId": "d1368c32-c94f-40a1-cc8d-c27ef0d05e2d",
        "colab": {
          "base_uri": "https://localhost:8080/",
          "height": 35
        }
      },
      "source": [
        "\"\"\"\n",
        "CHALLENGE - Word Frequency\n",
        "\"\"\"\n",
        "\n",
        "# Print out the number of words in this movie quote. Find and print out the most common word in the quote and how many times it was used.\n",
        "### Hint: You do not need a loop for this. Look up the Counter docs in python3.\n",
        "\n",
        "from collections import Counter\n",
        "\n",
        "princess_bride = [\n",
        "'Hello', 'my', 'name', 'is', 'Inigo', 'Montoya',\n",
        "'You', 'killed', 'my', 'father',\n",
        "'Prepare', 'to', 'die'\n",
        "]\n",
        "\n",
        "fave_word = mode(princess_bride)\n",
        "print(fave_word)\n",
        "\n",
        "# p.s. You might use this to help analyze the most common topic in comments or reviews from your users to help understand the best places to improve you product."
      ],
      "execution_count": 0,
      "outputs": [
        {
          "output_type": "stream",
          "text": [
            "my\n"
          ],
          "name": "stdout"
        }
      ]
    },
    {
      "cell_type": "markdown",
      "metadata": {
        "id": "jRAgXwO-TX7w",
        "colab_type": "text"
      },
      "source": [
        "\n",
        "\n",
        "### P2.PY CHALLENGE - Summing Dict Values\n",
        "\n",
        "\n"
      ]
    },
    {
      "cell_type": "code",
      "metadata": {
        "id": "INAeLqA6TX7x",
        "colab_type": "code",
        "outputId": "5c3a4f35-8b2f-4f40-ced1-f2c6a00809bb",
        "colab": {
          "base_uri": "https://localhost:8080/",
          "height": 35
        }
      },
      "source": [
        "\"\"\"\n",
        "CHALLENGE - Summing Dict Values\n",
        "\"\"\"\n",
        "\n",
        "# Two Kindergarten teachers poll their classes for what fruit they want to eat for snacktime tomorrow. Only one of them is going shopping, so she needs to know how many of each fruit she needs to buy in total. Tally these up and assign them to the \"shopping_list\" dict.\n",
        "\n",
        "poll1 = {'apples': 8, 'bananas': 12}\n",
        "poll2 = {'apples': 6, 'bananas': 6, 'clementines': 8}\n",
        "\n",
        "\n",
        "for key in poll2: \n",
        "    if key in poll1: \n",
        "        poll2[key] = poll2[key] + poll1[key] \n",
        "    else: \n",
        "        pass\n",
        "          \n",
        "print(poll2) \n"
      ],
      "execution_count": 0,
      "outputs": [
        {
          "output_type": "stream",
          "text": [
            "{'apples': 14, 'bananas': 18, 'clementines': 8}\n"
          ],
          "name": "stdout"
        }
      ]
    },
    {
      "cell_type": "markdown",
      "metadata": {
        "id": "s0xSpw43TX7z",
        "colab_type": "text"
      },
      "source": [
        "\n"
      ]
    }
  ]
}